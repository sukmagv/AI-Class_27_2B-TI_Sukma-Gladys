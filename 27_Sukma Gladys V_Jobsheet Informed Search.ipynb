{
  "nbformat": 4,
  "nbformat_minor": 0,
  "metadata": {
    "colab": {
      "provenance": [],
      "collapsed_sections": [],
      "authorship_tag": "ABX9TyPeOTz5slthHSCE00mVeukx",
      "include_colab_link": true
    },
    "kernelspec": {
      "name": "python3",
      "display_name": "Python 3"
    },
    "language_info": {
      "name": "python"
    }
  },
  "cells": [
    {
      "cell_type": "markdown",
      "metadata": {
        "id": "view-in-github",
        "colab_type": "text"
      },
      "source": [
        "<a href=\"https://colab.research.google.com/github/sukmagv/AI-Class_27_2B-TI_Sukma-Gladys/blob/main/27_Sukma%20Gladys%20V_Jobsheet%20Informed%20Search.ipynb\" target=\"_parent\"><img src=\"https://colab.research.google.com/assets/colab-badge.svg\" alt=\"Open In Colab\"/></a>"
      ]
    },
    {
      "cell_type": "code",
      "execution_count": null,
      "metadata": {
        "colab": {
          "base_uri": "https://localhost:8080/"
        },
        "id": "zuSc_AZT8IjD",
        "outputId": "3ddd5a08-0b72-4442-f057-53994c4abdcc"
      },
      "outputs": [
        {
          "output_type": "stream",
          "name": "stdout",
          "text": [
            "Path found : ['A', 'B', 'D']\n"
          ]
        },
        {
          "output_type": "execute_result",
          "data": {
            "text/plain": [
              "['A', 'B', 'D']"
            ]
          },
          "metadata": {},
          "execution_count": 3
        }
      ],
      "source": [
        "class Graph:\n",
        "  def __init__(self, adjacency_list):\n",
        "    self.adjacency_list = adjacency_list\n",
        "\n",
        "  def get_neighbors(self, v):\n",
        "    return self.adjacency_list[v]\n",
        "\n",
        "  # heuristic fuction with equal values for all nodes\n",
        "  def h(self, n):\n",
        "      H = {\n",
        "          'A' : 1,\n",
        "          'B' : 1,\n",
        "          'C' : 1,\n",
        "          'D' : 1\n",
        "      }\n",
        "\n",
        "      return H[n]\n",
        "\n",
        "  def a_star_algorithm(self, start_node, stop_node):\n",
        "        # open_list is a list of nodes which have been visited, but who's neighbors\n",
        "        # haven't all been inspected, starts off with the start node\n",
        "        # closed_list is a list of nodes which have been visited\n",
        "        # and who's neighbors have been inspected\n",
        "        open_list = set([start_node])\n",
        "        closed_list = set([])\n",
        "\n",
        "        # g contacts current distances from start_node to all other nodes\n",
        "        # the default value (if it's not found in the map) is infinity\n",
        "        g = {}\n",
        "\n",
        "        g[start_node] = 0\n",
        "\n",
        "        # parents contains an adjacency map of all nodes\n",
        "        parents = {}\n",
        "        parents[start_node] = start_node\n",
        "\n",
        "        while len(open_list) > 0:\n",
        "          n = None\n",
        "\n",
        "          # find a node with the Lowest value of f() - evaluation function\n",
        "          for v in open_list:\n",
        "            if n == None or g[v] + self.h(v) < g[n] + self.h(n):\n",
        "                n = v;\n",
        "\n",
        "          if n == None:\n",
        "            print('Path does not exist!')\n",
        "            return None\n",
        "\n",
        "          # if the current node is the stop_node\n",
        "          # then we begin reconstruction the path from it to the start_node\n",
        "          if n == stop_node:\n",
        "            reconst_path = []\n",
        "\n",
        "            while parents[n] != n:\n",
        "              reconst_path.append(n)\n",
        "              n = parents[n]\n",
        "\n",
        "            reconst_path.append(start_node)\n",
        "\n",
        "            reconst_path.reverse()\n",
        "\n",
        "            print('Path found : {}'.format(reconst_path))\n",
        "            return reconst_path\n",
        "\n",
        "          # for all neighbors of the current node do\n",
        "          for (m, weight) in self.get_neighbors(n):\n",
        "              # if the current node isn't both open_list and closed_list\n",
        "              # add it to open_list and note n as it's parent\n",
        "              if m not in open_list and m not in closed_list:\n",
        "                open_list.add(m)\n",
        "                parents[m] = n\n",
        "                g[m] = g[n] + weight\n",
        "\n",
        "              # otherwise, check if it's quicker to first visit n, then m\n",
        "              # and if it is, update parent data and g data\n",
        "              # and if the node was in the closed_list, move it to open_list\n",
        "              else: \n",
        "                if g[m] > g[n] + weight:\n",
        "                    g[m] = g[n] + weight\n",
        "                    parents[m] = n\n",
        "\n",
        "                    if m in closed_list:\n",
        "                      closed_list.remove(m)\n",
        "                      open_list.add(m)\n",
        "\n",
        "          # remove n from the open_list, and add it to closed-list\n",
        "          # because all of his neighbors were inspected\n",
        "          open_list.remove(n)\n",
        "          closed_list.add(n)\n",
        "          \n",
        "        print('Path does not exist!')\n",
        "        return None\n",
        "\n",
        "adjacency_list = {\n",
        "  'A':[('B', 1), ('C', 3), ('D', 7)],\n",
        "  'B':[('D', 5)],\n",
        "  'C':[('D', 12)]\n",
        "}\n",
        "graph1 = Graph(adjacency_list)\n",
        "graph1.a_star_algorithm('A', 'D')"
      ]
    },
    {
      "cell_type": "code",
      "source": [
        "DAG = {'A':{'C':4,'G':9},\n",
        "       'G':{'E':6},\n",
        "       'C':{'D':6,'H':12},\n",
        "       'D':{'E':7},\n",
        "       'H':{'F':15},\n",
        "       'E':{'F':8},\n",
        "       'F':{'B':5}}\n",
        "\n",
        "def shortest_path(graph, source, dest):\n",
        "  result = []\n",
        "  result.append(source)\n",
        "\n",
        "  while dest not in result:\n",
        "    current_node = result[-1]\n",
        "    local_max = min(graph[current_node].values())\n",
        "    for node, weight in graph[current_node].items():\n",
        "      if weight == local_max:\n",
        "        result.append(node)\n",
        "  return result\n",
        "print(\"Hasil pencarian algoritma greedy : \")\n",
        "shortest_path(DAG, 'A', 'F')"
      ],
      "metadata": {
        "id": "Fh1YQEfclr6K",
        "colab": {
          "base_uri": "https://localhost:8080/"
        },
        "outputId": "d047ecd4-2f43-4eaa-a929-6cff7355cb53"
      },
      "execution_count": null,
      "outputs": [
        {
          "output_type": "stream",
          "name": "stdout",
          "text": [
            "Hasil pencarian algoritma greedy : \n"
          ]
        },
        {
          "output_type": "execute_result",
          "data": {
            "text/plain": [
              "['A', 'C', 'D', 'E', 'F']"
            ]
          },
          "metadata": {},
          "execution_count": 5
        }
      ]
    },
    {
      "cell_type": "code",
      "source": [
        "from operator import itemgetter, attrgetter\n",
        "w = [3,4,1,7,6,8,9]\n",
        "p = [4,5,2,5,5,8,11]\n",
        "item = [[3,4],[4,5],[1,2],[7,5],[6,5],[8,8],[9,11]]\n",
        "\n",
        "i=0\n",
        "while i<len(item):\n",
        "    hasil = item[i][1]/item[i][0]\n",
        "    item[i].append(hasil)\n",
        "    i+=1\n",
        "\n",
        "data = sorted(item,key=itemgetter(2), reverse = True)\n",
        "\n",
        "def knapsack(data,cap,flag):\n",
        "    total=0\n",
        "    tres=\"\"\n",
        "    if(flag==0):\n",
        "      dataS = sorted(data,key=itemgetter(flag), reverse = True)\n",
        "      tres=\"bobot prioritas : \"\n",
        "    elif(flag==1):\n",
        "      dataS = sorted(data,key=itemgetter(flag), reverse = True)\n",
        "      tres=\"keuntungan prioritas : \"\n",
        "    elif(flag==2):\n",
        "      dataS = sorted(data,key=itemgetter(flag), reverse = True)\n",
        "      tres=\"p prioritas : \"\n",
        "    else:\n",
        "      return \"Error\"\n",
        "\n",
        "    j=0\n",
        "    hasil=0\n",
        "    #print(\"sini\")\n",
        "    cek=0\n",
        "    weight=0\n",
        "    while(j<len(dataS)):\n",
        "\n",
        "      if(cek+dataS[j][0]<=cap):\n",
        "        hasil=hasil+dataS[j][1]\n",
        "        weight=weight+dataS[j][0]\n",
        "        print(dataS[j][0])\n",
        "      cek=weight\n",
        "      j+=1\n",
        "      #print(\"here\")\n",
        "    return(\"Optimal dalam \" +str(tres)+str(hasil))\n",
        "\n",
        "print(knapsack(item,20,0))\n",
        "print(knapsack(item,20,1))\n",
        "print(knapsack(item,20,2))"
      ],
      "metadata": {
        "colab": {
          "base_uri": "https://localhost:8080/"
        },
        "id": "-ysMJ6ssJ21P",
        "outputId": "356988d0-d5ca-4e81-8a92-22a422871f42"
      },
      "execution_count": 4,
      "outputs": [
        {
          "output_type": "stream",
          "name": "stdout",
          "text": [
            "9\n",
            "8\n",
            "3\n",
            "Optimal dalam bobot prioritas : 23\n",
            "9\n",
            "8\n",
            "3\n",
            "Optimal dalam keuntungan prioritas : 23\n",
            "1\n",
            "3\n",
            "4\n",
            "9\n",
            "Optimal dalam p prioritas : 22\n"
          ]
        }
      ]
    },
    {
      "cell_type": "code",
      "source": [
        "DAG = {'A':{'C':4,'G':9},\n",
        "       'G':{'E':6},\n",
        "       'C':{'D':6,'H':12},\n",
        "       'D':{'E':7},\n",
        "       'H':{'F':15},\n",
        "       'E':{'F':8},\n",
        "       'F':{'B':5}}\n",
        "\n",
        "def shortest_path(graph, source, dest):\n",
        "  result = []\n",
        "  result.append(source)\n",
        "  while dest not in result:\n",
        "    current_node = result[-1]\n",
        "    local_max = min(graph[current_node].values())\n",
        "    for node, weight in graph[current_node].items():\n",
        "      if weight >= local_max:\n",
        "        result.append(node)\n",
        "  return result\n",
        "print(\"Hasil pencarian : \")\n",
        "shortest_path(DAG, 'A', 'F')"
      ],
      "metadata": {
        "colab": {
          "base_uri": "https://localhost:8080/"
        },
        "id": "sMLSBnegG7kw",
        "outputId": "db88fc08-0b03-4855-aa06-6b1935dba45a"
      },
      "execution_count": 5,
      "outputs": [
        {
          "output_type": "stream",
          "name": "stdout",
          "text": [
            "Hasil pencarian : \n"
          ]
        },
        {
          "output_type": "execute_result",
          "data": {
            "text/plain": [
              "['A', 'C', 'G', 'E', 'F']"
            ]
          },
          "metadata": {},
          "execution_count": 5
        }
      ]
    }
  ]
}